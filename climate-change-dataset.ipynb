{
 "cells": [
  {
   "cell_type": "code",
   "execution_count": null,
   "metadata": {},
   "outputs": [],
   "source": [
    "import csv\n",
    "import time\n",
    "import random\n",
    "\n",
    "class Posts():\n",
    "    def __init__(self, csv_filename):\n",
    "        file = open(\"csv/\" + csv_filename)\n",
    "        reader = csv.reader(file)\n",
    "        rows = list(reader)\n",
    "        self.header = rows[0]\n",
    "        self.rows = rows[1:]\n",
    "        for row in self.rows:\n",
    "            row[-1] = int(row[-1])\n",
    "        self.id_to_row = {}\n",
    "        for row in self.rows:\n",
    "            self.id_to_row[row[1]] = row\n",
    "\n",
    "        self.rows_by_sentiment = sorted(self.rows, key=lambda row: row[-2])\n",
    "\n",
    "        self.scores = {}\n",
    "        for row in self.rows:\n",
    "            self.scores[row[-1]] = True\n",
    "\n",
    "    def get_comment_from_id(self, comment_id):\n",
    "        for row in self.rows:\n",
    "            if row[1] == comment_id:\n",
    "                return row\n",
    "        return None\n",
    "\n",
    "    def get_comment_from_id_fast(self, comment_id):\n",
    "        if comment_id in self.id_to_row:\n",
    "            return self.id_to_row[comment_id]\n",
    "        return None\n",
    "    \n",
    "    def check_score(self, total_score):\n",
    "        for row1 in self.rows:\n",
    "            for row2 in self.rows:\n",
    "                score1 = row1[-1]\n",
    "                score2 = row2[-1]\n",
    "                if score1 + score2 == total_score:\n",
    "                    return [row1, row2]\n",
    "        return -1\n",
    "\n",
    "    def check_score_fast(self, total_score):\n",
    "        for row in self.rows:\n",
    "            if total_score - row[-1] in self.scores:\n",
    "                return [row[-1], self.scores[total_score - row[-1]]]\n",
    "        return -1\n",
    "\n",
    "    def find_sentiment_in_range(self, lower_bound, upper_bound):\n",
    "        sentiment_in_range = []\n",
    "        for row in self.rows:\n",
    "            sentiment = row[-2]\n",
    "            if lower_bound < sentiment < upper_bound:\n",
    "                sentiment_in_range.append(row)\n",
    "        return sentiment_in_range\n",
    "\n",
    "    def find_sentiment_in_range_fast(self, lower_bound, upper_bound):\n",
    "        sorted_sentiments = self.rows_by_sentiment\n",
    "        sentiment_in_range = []\n",
    "        while len(sorted_sentiments) > 0:\n",
    "            row = sorted_sentiments.pop()\n",
    "            sentiment = row[-2]\n",
    "            if lower_bound < sentiment < upper_bound:\n",
    "                sentiment_in_range.append(row)\n",
    "\n",
    "posts = Posts('the-reddit-climate-change-dataset-comments.csv')\n",
    "print(posts.header)"
   ]
  }
 ],
 "metadata": {
  "kernelspec": {
   "display_name": "Python 3.9.12 ('base')",
   "language": "python",
   "name": "python3"
  },
  "language_info": {
   "codemirror_mode": {
    "name": "ipython",
    "version": 3
   },
   "file_extension": ".py",
   "mimetype": "text/x-python",
   "name": "python",
   "nbconvert_exporter": "python",
   "pygments_lexer": "ipython3",
   "version": "3.9.12"
  },
  "orig_nbformat": 4,
  "vscode": {
   "interpreter": {
    "hash": "4ccb6dd13ad641779f158eb12a030d1b047ba14ce5cec0b88a55259b2091e53e"
   }
  }
 },
 "nbformat": 4,
 "nbformat_minor": 2
}
